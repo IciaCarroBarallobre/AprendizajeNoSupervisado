{
 "cells": [
  {
   "cell_type": "markdown",
   "id": "recreational-specialist",
   "metadata": {},
   "source": [
    "# Prepocesamiento"
   ]
  },
  {
   "cell_type": "code",
   "execution_count": 42,
   "id": "funky-director",
   "metadata": {},
   "outputs": [],
   "source": [
    "import pandas as pd\n",
    "import os\n",
    "import numpy as np"
   ]
  },
  {
   "cell_type": "code",
   "execution_count": 43,
   "id": "metallic-delta",
   "metadata": {},
   "outputs": [
    {
     "name": "stdout",
     "output_type": "stream",
     "text": [
      "Path actual:  /home/iciac/Escritorio/CursoIA/AprendizajeNoSupervisado\n"
     ]
    }
   ],
   "source": [
    "# Actual dir\n",
    "path = \"dataset\"\n",
    "if path not in os.getcwd():\n",
    "    os.chdir(os.getcwd()) \n",
    "\n",
    "path_actual =     os.getcwd()\n",
    "print(\"Path actual: \",path_actual)\n",
    "dataset = pd.read_csv(os.getcwd()+\"/dataset/okcupid_profiles.csv\")"
   ]
  },
  {
   "cell_type": "code",
   "execution_count": 48,
   "id": "frequent-reason",
   "metadata": {},
   "outputs": [
    {
     "name": "stdout",
     "output_type": "stream",
     "text": [
      "Valores Nulos \n",
      "-----------\n"
     ]
    },
    {
     "data": {
      "text/plain": [
       "array(['single', 'available', 'seeing someone', 'married', 'unknown'],\n",
       "      dtype=object)"
      ]
     },
     "execution_count": 48,
     "metadata": {},
     "output_type": "execute_result"
    }
   ],
   "source": [
    "print(\"Valores Nulos \\n-----------\")\n",
    "dataset.isna().sum()\n",
    "dataset.status.unique()"
   ]
  },
  {
   "cell_type": "markdown",
   "id": "dying-disability",
   "metadata": {},
   "source": [
    "## Variables\n"
   ]
  },
  {
   "cell_type": "markdown",
   "id": "oriented-walker",
   "metadata": {},
   "source": [
    "### Categoricas \n",
    "\n",
    "**Obligatorias (Separar en datasets)** \n",
    "- Homosexual mujer (Bisexual mujer)\n",
    "- Homosexual hombre (Bisuxeal hombre)\n",
    "- Heterosexuales (Bisexual)\n",
    "\n",
    "En todas podemos borrar sex menos en heterosexual\n"
   ]
  },
  {
   "cell_type": "code",
   "execution_count": 45,
   "id": "continent-audio",
   "metadata": {},
   "outputs": [
    {
     "data": {
      "text/plain": [
       "array(['m', 'f'], dtype=object)"
      ]
     },
     "execution_count": 45,
     "metadata": {},
     "output_type": "execute_result"
    }
   ],
   "source": [
    "dataset[\"sex\"].unique()"
   ]
  },
  {
   "cell_type": "code",
   "execution_count": 46,
   "id": "combined-clothing",
   "metadata": {},
   "outputs": [
    {
     "data": {
      "text/plain": [
       "array(['straight', 'bisexual', 'gay'], dtype=object)"
      ]
     },
     "execution_count": 46,
     "metadata": {},
     "output_type": "execute_result"
    }
   ],
   "source": [
    "dataset[\"orientation\"].unique()"
   ]
  },
  {
   "cell_type": "code",
   "execution_count": 47,
   "id": "comparative-preview",
   "metadata": {},
   "outputs": [],
   "source": [
    "homosexual_f = dataset[(\"f\" == dataset[\"sex\"]) & (dataset[\"orientation\"].isin([\"bisexual\", \"gay\"]))]\n",
    "homosexual_h = dataset[(\"m\" == dataset[\"sex\"]) & (dataset[\"orientation\"].isin([\"bisexual\", \"gay\"]))]\n",
    "heterosexual = dataset[(dataset[\"orientation\"].isin([\"bisexual\", \"straight\"]))]\n",
    "\n",
    "homosexual_f.drop(columns = [\"sex\",\"orientation\"], inplace = True)\n",
    "homosexual_h.drop(columns = [\"sex\",\"orientation\"], inplace = True)\n",
    "heterosexual.drop(columns = [\"orientation\"], inplace = True)\n",
    "\n",
    "homosexual_f.to_csv(path_actual+\"/dataset/homosexual_f.csv\", index= False)\n",
    "homosexual_h.to_csv(path_actual+\"/dataset/homosexual_h.csv\", index= False)\n",
    "heterosexual.to_csv(path_actual+\"/dataset/heterosexual.csv\", index= False)"
   ]
  },
  {
   "cell_type": "code",
   "execution_count": null,
   "id": "regional-python",
   "metadata": {},
   "outputs": [],
   "source": []
  }
 ],
 "metadata": {
  "kernelspec": {
   "display_name": "Python 3",
   "language": "python",
   "name": "python3"
  },
  "language_info": {
   "codemirror_mode": {
    "name": "ipython",
    "version": 3
   },
   "file_extension": ".py",
   "mimetype": "text/x-python",
   "name": "python",
   "nbconvert_exporter": "python",
   "pygments_lexer": "ipython3",
   "version": "3.8.3"
  }
 },
 "nbformat": 4,
 "nbformat_minor": 5
}
