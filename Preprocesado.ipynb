{
 "cells": [
  {
   "cell_type": "markdown",
   "id": "foreign-moral",
   "metadata": {},
   "source": [
    "# Prepocesamiento"
   ]
  },
  {
   "cell_type": "code",
   "execution_count": 325,
   "id": "settled-grammar",
   "metadata": {},
   "outputs": [],
   "source": [
    "# Install requirements\n",
    "# !pip3 install -r requirements.txt > dataset/Logs"
   ]
  },
  {
   "cell_type": "code",
   "execution_count": 326,
   "id": "exempt-charlotte",
   "metadata": {},
   "outputs": [],
   "source": [
    "import pandas as pd\n",
    "import os\n",
    "import numpy as np\n",
    "import matplotlib.pyplot as plt\n",
    "import re\n",
    "from sklearn.preprocessing import OneHotEncoder\n",
    "\n",
    "\n",
    "from geopy.geocoders import Nominatim\n",
    "\n",
    "geolocator = Nominatim(user_agent=\"Your_Name\")\n",
    "DATASETS = [\"homosexualf.csv\", \"homosexualh.csv\", \"heterosexual.csv\"]"
   ]
  },
  {
   "cell_type": "code",
   "execution_count": 327,
   "id": "hairy-stanford",
   "metadata": {},
   "outputs": [
    {
     "name": "stdout",
     "output_type": "stream",
     "text": [
      "Path actual:  /home/iciac/Escritorio/CursoIA/AprendizajeNoSupervisado\n",
      "Dataset path:  /home/iciac/Escritorio/CursoIA/AprendizajeNoSupervisado/dataset/heterosexual.csv\n"
     ]
    }
   ],
   "source": [
    "# Actual dir\n",
    "path_actual =     os.getcwd()\n",
    "print(\"Path actual: \",path_actual)\n",
    "dataset = path_actual + \"/dataset/\"+ DATASETS[2]\n",
    "print(\"Dataset path: \", dataset)"
   ]
  },
  {
   "cell_type": "markdown",
   "id": "illegal-voluntary",
   "metadata": {},
   "source": [
    "# Proyecto 2"
   ]
  },
  {
   "cell_type": "code",
   "execution_count": 328,
   "id": "toxic-burst",
   "metadata": {},
   "outputs": [],
   "source": [
    "df = pd.read_csv(dataset)"
   ]
  },
  {
   "cell_type": "code",
   "execution_count": 329,
   "id": "twelve-chain",
   "metadata": {},
   "outputs": [],
   "source": [
    "def plot_frequency(df, columns):\n",
    "    for column in columns:\n",
    "        fig, ax = plt.subplots()\n",
    "        df[column].value_counts().plot(ax=ax, kind='bar', title = \"Frequency \"+column)\n",
    "        plt.show()\n",
    "    "
   ]
  },
  {
   "cell_type": "code",
   "execution_count": 330,
   "id": "killing-finder",
   "metadata": {},
   "outputs": [
    {
     "name": "stdout",
     "output_type": "stream",
     "text": [
      "Longitud del dataset:  (54373, 30)\n"
     ]
    }
   ],
   "source": [
    "print(\"Longitud del dataset: \", df.shape)\n"
   ]
  },
  {
   "cell_type": "code",
   "execution_count": 331,
   "id": "dense-healing",
   "metadata": {},
   "outputs": [
    {
     "name": "stdout",
     "output_type": "stream",
     "text": [
      "Valores Nulos \n",
      "-----------\n"
     ]
    },
    {
     "data": {
      "text/plain": [
       "age                0\n",
       "status             0\n",
       "sex                0\n",
       "body_type       4767\n",
       "diet           21608\n",
       "drinks          2741\n",
       "drugs          12817\n",
       "education       5964\n",
       "ethnicity       5228\n",
       "height             3\n",
       "income             0\n",
       "job             7377\n",
       "last_online        0\n",
       "location           0\n",
       "offspring      31554\n",
       "pets           18162\n",
       "religion       18276\n",
       "sign           10456\n",
       "smokes          5041\n",
       "speaks            44\n",
       "essay0          5103\n",
       "essay1          6977\n",
       "essay2          8895\n",
       "essay3         10576\n",
       "essay4          9684\n",
       "essay5         10013\n",
       "essay6         12705\n",
       "essay7         11506\n",
       "essay8         17681\n",
       "essay9         11578\n",
       "dtype: int64"
      ]
     },
     "execution_count": 331,
     "metadata": {},
     "output_type": "execute_result"
    }
   ],
   "source": [
    "print(\"Valores Nulos \\n-----------\")\n",
    "df.isna().sum()"
   ]
  },
  {
   "cell_type": "markdown",
   "id": "pressing-warner",
   "metadata": {},
   "source": [
    "## Variables\n"
   ]
  },
  {
   "cell_type": "markdown",
   "id": "registered-savings",
   "metadata": {},
   "source": [
    "### Numericas\n",
    "- age: edad\n",
    "- height: altura \n",
    "- last_online: fecha de la última conexión, (Dias-Mes-Año) miliseconds. (ASK- ¿Como aprovecharlo?)\n",
    "- income: ingresos anuales (en dólares americanos $) -> Hay mucho a nulo (-1) y no nos parece relevante"
   ]
  },
  {
   "cell_type": "code",
   "execution_count": 332,
   "id": "constant-interim",
   "metadata": {},
   "outputs": [
    {
     "data": {
      "image/png": "[encoded data removed]",
      "text/plain": [
       "<Figure size 432x288 with 1 Axes>"
      ]
     },
     "metadata": {
      "needs_background": "light"
     },
     "output_type": "display_data"
    },
    {
     "data": {
      "image/png": "[encoded data removed]",
      "text/plain": [
       "<Figure size 432x288 with 1 Axes>"
      ]
     },
     "metadata": {
      "needs_background": "light"
     },
     "output_type": "display_data"
    },
    {
     "data": {
      "image/png": "[encoded data removed]",
      "text/plain": [
       "<Figure size 432x288 with 1 Axes>"
      ]
     },
     "metadata": {
      "needs_background": "light"
     },
     "output_type": "display_data"
    },
    {
     "data": {
      "image/png": "[encoded data removed]",
      "text/plain": [
       "<Figure size 432x288 with 1 Axes>"
      ]
     },
     "metadata": {
      "needs_background": "light"
     },
     "output_type": "display_data"
    }
   ],
   "source": [
    "df[[\"year\",\"month\", \"deshechar\"]] = df[\"last_online\"].str.split(\"-\",expand=True, n=2)\n",
    "df[[\"last_online\"]] = df[\"year\"] + df[\"month\"] \n",
    "plot_frequency(df, [\"age\", \"height\", \"income\", \"last_online\"])\n",
    "df.drop(columns = [\"deshechar\",\"income\", \"year\", \"month\"], inplace=True)\n",
    "\n",
    "anterior_ultimo_mes = df[df[\"last_online\"]< \"201206\"].index\n",
    "df.drop(anterior_ultimo_mes,inplace = True)\n",
    "df.drop(columns = [\"last_online\"], inplace=True)"
   ]
  },
  {
   "cell_type": "code",
   "execution_count": 333,
   "id": "geographic-protocol",
   "metadata": {},
   "outputs": [
    {
     "name": "stdout",
     "output_type": "stream",
     "text": [
      "Dimension actual: (40456, 28)\n"
     ]
    }
   ],
   "source": [
    "print(\"Dimension actual:\", df.shape)"
   ]
  },
  {
   "cell_type": "markdown",
   "id": "virgin-cement",
   "metadata": {},
   "source": [
    "### Categoricas"
   ]
  },
  {
   "cell_type": "markdown",
   "id": "weighted-customs",
   "metadata": {},
   "source": [
    "**A borrar** \n",
    "\n",
    "- body_type\n",
    "- sign\n",
    "- ethnicity\n",
    "- education\n",
    "- essay: Las preprocesaremos en otro notebook guardando el indice\n",
    "\n",
    "Nos parecen que pueden crear sesgos en nuestro algoritmo o que no son lo suficientemente relevantes."
   ]
  },
  {
   "cell_type": "code",
   "execution_count": 334,
   "id": "useful-camel",
   "metadata": {},
   "outputs": [
    {
     "name": "stdout",
     "output_type": "stream",
     "text": [
      "Dimension actual: (40456, 14)\n"
     ]
    }
   ],
   "source": [
    "df.drop(columns = [\"body_type\",\"ethnicity\", \"education\", \"sign\"], inplace=True)\n",
    "for i in range(0,10):\n",
    "    df.drop(columns = \"essay\"+str(i), inplace = True)   \n",
    "    \n",
    "print(\"Dimension actual:\", df.shape)\n"
   ]
  },
  {
   "cell_type": "markdown",
   "id": "empty-caution",
   "metadata": {},
   "source": [
    "\n",
    "**Categoricas más relevante**\n",
    "- status: Estado de la relación (Available/Single- 0, Seeing someone-1, Married-2 o Unknown-nan)\n",
    "- location: lugar de residencia (A coordenadas - latitud, longitud)\n",
    "- speaks: idiomas (Una columna por cada idiomas y sus puntuaciones) \n",
    "  - Lisp o c++ nos parecio interesante dejarlo por aficciones ([1,0.5,0.25, 0])\n",
    "  - Tambien tenemos en cuenta si le gusta aprender idiomas (number_of_languages)\n",
    " "
   ]
  },
  {
   "cell_type": "code",
   "execution_count": 335,
   "id": "awful-northeast",
   "metadata": {},
   "outputs": [
    {
     "name": "stdout",
     "output_type": "stream",
     "text": [
      "Status: ['single' 'available' 'seeing someone' 'married' 'unknown']\n"
     ]
    }
   ],
   "source": [
    "print(\"Status:\", df.status.unique())"
   ]
  },
  {
   "cell_type": "code",
   "execution_count": 336,
   "id": "prerequisite-cancer",
   "metadata": {},
   "outputs": [
    {
     "name": "stdout",
     "output_type": "stream",
     "text": [
      "Status: [ 0.  1.  2. nan]\n"
     ]
    }
   ],
   "source": [
    "## STATUS\n",
    "def is_avaliable(x):\n",
    "    if x in [\"single\", \"available\"]:\n",
    "        return 0 \n",
    "    elif x in ['seeing someone']:\n",
    "        return 1\n",
    "    elif x in [\"married\"]:\n",
    "        return 2\n",
    "    elif x in [\"unknown\"]:\n",
    "        return np.nan\n",
    "    else:\n",
    "        return status[x]\n",
    "    \n",
    "df[\"status\"] = df.status.apply(lambda x: is_avaliable(x))\n",
    "print(\"Status:\", df.status.unique())"
   ]
  },
  {
   "cell_type": "code",
   "execution_count": null,
   "id": "operational-template",
   "metadata": {},
   "outputs": [],
   "source": [
    "## LOCATION\n",
    "\n",
    "#def preprocess_location(dataset, column):\n",
    "#    for word in [\"south\", \"north\", \"west\"]:\n",
    "#        dataset[column] = dataset[column].apply(lambda x: str(x).replace(word,\"\"))\n",
    "#    return dataset[column]\n",
    "\n",
    "def address_to_coordinates(address):\n",
    "    location = geolocator.geocode(address)\n",
    "    return location.latitude, location.longitude\n",
    "    \n",
    "df[\"location\"]= df[\"location\"].str.strip()\n",
    "\n",
    "addresses = df[\"location\"].unique()\n",
    "latitude, longitude = [],[]\n",
    "\n",
    "for address in addresses:\n",
    "    la, lo = address_to_coordinates(address)\n",
    "    latitude.append(la)\n",
    "    longitude.append(lo)\n",
    "\n",
    "    \n",
    "locations = pd.DataFrame({\"location\":addresses, \"longitude\":longitude, \"latitude\":latitude})\n",
    "df = df.merge(locations, on = \"location\")\n",
    "df.drop(columns= \"location\", inplace=True)\n",
    "\n",
    "locations"
   ]
  },
  {
   "cell_type": "code",
   "execution_count": null,
   "id": "crude-qualification",
   "metadata": {},
   "outputs": [],
   "source": [
    "## SPEAKS\n",
    "df.drop(df[df.speaks.isnull()].index, inplace=True)  \n",
    "\n",
    "if ((len(df)) == (df['speaks'].str.contains(\"english\").sum())):\n",
    "    print(\"Todos hablan ingles en mayor o menor medida\")\n",
    "\n"
   ]
  },
  {
   "cell_type": "code",
   "execution_count": null,
   "id": "statewide-terror",
   "metadata": {},
   "outputs": [],
   "source": [
    "def parentesis(x):\n",
    "    start = x.find('(') \n",
    "    end = x.find(')', start)\n",
    "    if (start > 0 and end > start):\n",
    "        level = x[start+1:end]\n",
    "        language = x.replace(level, \"\")\n",
    "    else:\n",
    "        language = x\n",
    "        level = \"okay\"\n",
    "        \n",
    "    return level, language.replace(\"()\", \"\").strip()\n",
    "\n",
    "df[\"languages\"] = df.speaks.str.split(\", \")\n",
    "df[\"number_of_languages\"] = df[\"languages\"].apply(lambda x: len(x))\n",
    "df[\"languages\"] = df[\"languages\"].apply(lambda x: [lang.strip() for lang in x]) \n",
    "df[\"languages\"] = df[\"languages\"].apply(lambda x: [parentesis(lang) for lang in x] )\n",
    "\n",
    "unique_languages = set()\n",
    "levels = set()\n",
    "\n",
    "for element in df[\"languages\"]:\n",
    "    for language in element:\n",
    "        levels.add(language[0])\n",
    "        if (len(language) > 1):\n",
    "            unique_languages.add(language[1])\n",
    "\n",
    " \n",
    "levels = {k:v for k,v in zip(levels, [1,0.5,0.25])}\n",
    "df[\"languages\"] = df[\"languages\"].apply(lambda x: [ (levels[lang[0]], lang[1]) for lang in x] )\n",
    "\n",
    "def get_item(lang, l):\n",
    "    for item in l:\n",
    "        if item[1] in lang:\n",
    "            return item[0]\n",
    "    return 0    \n",
    "    \n",
    "for lang in unique_languages:\n",
    "    df[lang] = df[\"languages\"].apply(lambda x: get_item(lang,x))\n",
    "df.drop(columns= [\"languages\",\"speaks\"], inplace=True)    \n"
   ]
  },
  {
   "cell_type": "code",
   "execution_count": null,
   "id": "large-brunswick",
   "metadata": {},
   "outputs": [],
   "source": [
    "print(\"Dimension actual:\", df.shape)"
   ]
  },
  {
   "cell_type": "markdown",
   "id": "swiss-cooler",
   "metadata": {},
   "source": [
    "**Categoricas menos relevantes**\n",
    "\n",
    "- smokes: ¿fumas?  (0 No - 1 Si)    \n",
    "- drugs: ¿Consumidore de drogas? (0 No - 1 Si) \n",
    "- drinks: ¿bebedor? (0 No - 1 Socialmente, Raramente - 2 Si)"
   ]
  },
  {
   "cell_type": "code",
   "execution_count": null,
   "id": "curious-hostel",
   "metadata": {},
   "outputs": [],
   "source": [
    "### Drinks, drugs\n",
    "print(df.smokes.unique())\n",
    "print(df.drinks.unique())\n",
    "print(df.drugs.unique())\n",
    "\n",
    "def drinks(x):\n",
    "    if x in [\"often\",'desperately', 'very often']:\n",
    "        return 2\n",
    "    elif x in ['socially', 'rarely']:\n",
    "        return 1\n",
    "    elif x in ['not at all']:\n",
    "        return 0\n",
    "    else:\n",
    "        return x\n",
    "\n",
    "def drugs(x):\n",
    "    if x in [\"sometimes\", 'often']:\n",
    "        return 1\n",
    "    elif x in ['never']:\n",
    "        return 0\n",
    "    else:\n",
    "        return x\n",
    "\n",
    "def smokes(x):\n",
    "    if x in [\"no\"]:\n",
    "        return 0\n",
    "    elif x in ['sometimes', 'when drinking', 'trying to quit', 'yes']:\n",
    "        return 1\n",
    "    else:\n",
    "        return x\n",
    "\n",
    "df[\"drinks\"] = df[\"drinks\"].apply(lambda x: drinks(x))\n",
    "df[\"drugs\"] = df[\"drugs\"].apply(lambda x: drugs(x))\n",
    "df[\"smokes\"] = df[\"smokes\"].apply(lambda x: smokes(x))\n",
    "\n",
    "print(df.drinks.unique())\n",
    "print(df.drugs.unique())\n",
    "print(df.smokes.unique())"
   ]
  },
  {
   "cell_type": "markdown",
   "id": "balanced-comedy",
   "metadata": {},
   "source": [
    "- offspring: preferencia con respecto a los hijos (hijos no 0 - si 1, querer_hijos no 0 - si 1)\n",
    "- job: empleo/industria (Cambiar unemployed y rather not say to unknown)\n",
    "   - {'other', 'student', 'artistico', 'retired', ('unemployed',  'rather not say') -> nan }\n",
    "      - art: 'entertainment / media',  'artistic / musical / writer'\n",
    "      - tech: 'computer / hardware / software', 'science / tech / engineering'\n",
    "      - health: 'medicine / health'\n",
    "      - social:  'banking / financial / real estate', 'law / legal services',  'sales / marketing / biz dev', 'clerical / administrative', 'executive / management', 'political / government', 'education / academia', 'hospitality / travel', 'military'\n",
    "      - industrial: 'construction / craftsmanship', 'transportation'\n",
    "- diet: dieta seguida por el usuario (solo tener en cuenta estrictos {vegan, vegetarian, other, halah, kosher})\n",
    "- pets: preferencia con respecto a las mascotas (cat no 0 si 1, dog  no 0 si 1)\n",
    "- religion: preferencias religiosas (igual a languages)\n"
   ]
  },
  {
   "cell_type": "code",
   "execution_count": null,
   "id": "employed-lotus",
   "metadata": {},
   "outputs": [],
   "source": [
    "### OffSpring\n",
    "def hijos(x):\n",
    "    if \"has\" in str(x):\n",
    "        return 1\n",
    "    elif \"doesn't have\" in str(x):\n",
    "        return 0\n",
    "    else:\n",
    "        \"unknown\"   \n",
    "\n",
    "def querer_hijos(x):\n",
    "    if  \"doesn't want\" in str(x):\n",
    "        return 0 \n",
    "    elif \"want\" in str(x):\n",
    "        return 1\n",
    "    else:\n",
    "        return np.nan  \n",
    "    \n",
    "df[\"hijos\"] = df.offspring.apply(lambda x: hijos(x))\n",
    "df[\"quiere_hijos\"] = df.offspring.apply(lambda x: querer_hijos(x))\n",
    "df.drop(columns = \"offspring\", inplace = True)\n",
    "\n",
    "print(df.hijos.unique())\n",
    "print(df.quiere_hijos.unique())"
   ]
  },
  {
   "cell_type": "code",
   "execution_count": null,
   "id": "partial-trader",
   "metadata": {},
   "outputs": [],
   "source": [
    "## DIET \n",
    "def diet(x):\n",
    "    if pd.isnull(x):\n",
    "        return \"anything\"\n",
    "    if (\"other\" in x) or (\"anything\" in x):\n",
    "        return \"anything\"\n",
    "    \n",
    "    x = x.replace(\"mostly \",\"\")\n",
    "    x = x.replace(\"strictly \",\"\")\n",
    "    return x\n",
    "\n",
    "df.diet = df.diet.apply(lambda x: diet(x))\n"
   ]
  },
  {
   "cell_type": "code",
   "execution_count": null,
   "id": "stupid-coating",
   "metadata": {},
   "outputs": [],
   "source": [
    "## PET (Cats-0,1-Dogs-0,1)\n",
    "def cats(x):\n",
    "    if pd.isnull(x):\n",
    "        return x\n",
    "    cat = [\"has cat\",\"likes cats\"]\n",
    "    for string in cat:\n",
    "        if string in x:\n",
    "            return 1\n",
    "        elif \"dislikes cats\":\n",
    "            return 0\n",
    "    return np.nan\n",
    "\n",
    "def dogs(x):\n",
    "    if pd.isnull(x):\n",
    "        return x\n",
    "    dog = [\"has dogs\",\"likes dogs\"]\n",
    "    for string in dog:\n",
    "        if string in x:\n",
    "            return 1\n",
    "        elif \"dislikes dogs\" in x:\n",
    "            return 0\n",
    "    return np.nan\n",
    "        \n",
    "\n",
    "print(df.pets.unique())\n",
    "\n",
    "df[\"cat\"] = df.pets.apply(lambda x: cats(x))\n",
    "df[\"dog\"] = df.pets.apply(lambda x: dogs(x))\n",
    "df.drop(columns = \"pets\", inplace = True)\n",
    "\n",
    "print(df.dog.unique())\n",
    "print(df.cat.unique())"
   ]
  },
  {
   "cell_type": "code",
   "execution_count": null,
   "id": "light-dream",
   "metadata": {},
   "outputs": [],
   "source": [
    "## JOB \n",
    "social = ['banking / financial / real estate', 'law / legal services',  'sales / marketing / biz dev', 'clerical / administrative']\n",
    "social.append(['executive / management', 'political / government', 'education / academia', 'hospitality / travel','military'])\n",
    "\n",
    "def job(x):\n",
    "    if x in ['retired','student']:\n",
    "        return x\n",
    "    elif x in ['entertainment / media',  'artistic / musical / writer']:\n",
    "        return \"art\"\n",
    "    elif x in ['computer / hardware / software', 'science / tech / engineering']:\n",
    "        return \"tech\"\n",
    "    elif x in ['medicine / health']:\n",
    "        return \"health\"\n",
    "    elif x in social:\n",
    "        return \"social\"\n",
    "    elif x in ['construction / craftsmanship', 'transportation']:\n",
    "        return \"industry\"\n",
    "    else:\n",
    "        return np.nan\n",
    "\n",
    "df.job = df.job.apply(lambda x: job(x))"
   ]
  },
  {
   "cell_type": "code",
   "execution_count": null,
   "id": "adverse-helen",
   "metadata": {},
   "outputs": [],
   "source": [
    "## RELIGION\n",
    "religion_dict = {\n",
    "    \"and laughing about it\": 0.1,\n",
    "    \"but not too serious about it\": 0.25,\n",
    "    \"and somewhat serious about it\": 0.5,\n",
    "    \"and very serious about it\": 1\n",
    "}\n",
    "def religion(x):\n",
    "    if pd.isnull(x):\n",
    "        return x\n",
    "    a = x.split(\" \", maxsplit=1)\n",
    "    if (len(a) < 2):\n",
    "        return (a[0], 0.5)        \n",
    "    puntuation = 0\n",
    "    for phrase in religion_dict:\n",
    "        if a[1] in phrase:\n",
    "            return a[0], religion_dict[phrase]\n",
    "    \n",
    "    return np.nan\n",
    "\n",
    "religions = set([i.split(\" \", maxsplit=1)[0]for i in df.religion.unique() if pd.notnull(i)])\n",
    "\n",
    "df.religion = df.religion.apply(lambda x: religion(x))\n",
    "\n",
    "for rel in religions:\n",
    "    df[rel] = df.religion.apply(lambda x: x[1] if (pd.notnull(x) and (x[0] in rel)) else 0)\n",
    "    \n",
    "df.drop(columns = \"religion\", inplace = True)    "
   ]
  },
  {
   "cell_type": "markdown",
   "id": "hazardous-dinner",
   "metadata": {},
   "source": [
    "## Catgoricas -> One Hot Encoder"
   ]
  },
  {
   "cell_type": "code",
   "execution_count": null,
   "id": "negative-flour",
   "metadata": {},
   "outputs": [],
   "source": [
    "print(df.select_dtypes(include=['object']).columns)\n",
    "\n",
    "def sex(x):\n",
    "    if x==\"m\":\n",
    "        return 0\n",
    "    elif x==\"f\":\n",
    "        return 1\n",
    "    return np.nan\n",
    "\n",
    "if \"sex\" in df.columns.to_list():\n",
    "    df[\"sex\"].apply(lambda x: sex(x))\n",
    "    \n",
    "print(df.select_dtypes(include=['object']).columns)    "
   ]
  },
  {
   "cell_type": "code",
   "execution_count": null,
   "id": "swiss-integrity",
   "metadata": {},
   "outputs": [],
   "source": [
    "df = df.join(pd.get_dummies(df.job, prefix='Job'))\n",
    "df.drop(columns = [\"job\"], inplace=True)\n",
    "df = df.join(pd.get_dummies(df.diet, prefix='Diet'))\n",
    "df.drop(columns = [\"diet\"], inplace=True)"
   ]
  },
  {
   "cell_type": "markdown",
   "id": "assured-denver",
   "metadata": {},
   "source": [
    "## Save"
   ]
  },
  {
   "cell_type": "code",
   "execution_count": null,
   "id": "genuine-breast",
   "metadata": {},
   "outputs": [],
   "source": [
    "print(\"Longitud del dataset: \", df.shape)"
   ]
  },
  {
   "cell_type": "code",
   "execution_count": null,
   "id": "fourth-guide",
   "metadata": {},
   "outputs": [],
   "source": [
    "df.columns"
   ]
  },
  {
   "cell_type": "code",
   "execution_count": null,
   "id": "taken-oxide",
   "metadata": {},
   "outputs": [],
   "source": [
    "save_path = path_actual + \"/dataset/\"+ DATASETS[0][:len(DATASETS[0])-4]+\"_preprocesado.csv\"\n",
    "df.to_csv(save_path)"
   ]
  },
  {
   "cell_type": "code",
   "execution_count": null,
   "id": "falling-christianity",
   "metadata": {},
   "outputs": [],
   "source": [
    "save_path"
   ]
  },
  {
   "cell_type": "code",
   "execution_count": null,
   "id": "polyphonic-chess",
   "metadata": {},
   "outputs": [],
   "source": []
  }
 ],
 "metadata": {
  "kernelspec": {
   "display_name": "Python 3",
   "language": "python",
   "name": "python3"
  },
  "language_info": {
   "codemirror_mode": {
    "name": "ipython",
    "version": 3
   },
   "file_extension": ".py",
   "mimetype": "text/x-python",
   "name": "python",
   "nbconvert_exporter": "python",
   "pygments_lexer": "ipython3",
   "version": "3.8.3"
  }
 },
 "nbformat": 4,
 "nbformat_minor": 5
}
