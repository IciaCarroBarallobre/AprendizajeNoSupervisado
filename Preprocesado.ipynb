{
 "cells": [
  {
   "cell_type": "markdown",
   "id": "confident-consent",
   "metadata": {},
   "source": [
    "# Prepocesamiento"
   ]
  },
  {
   "cell_type": "code",
   "execution_count": 64,
   "id": "native-constitutional",
   "metadata": {},
   "outputs": [],
   "source": [
    "# Install requirements\n",
    "# !pip3 install -r requirements.txt > dataset/Logs"
   ]
  },
  {
   "cell_type": "code",
   "execution_count": 65,
   "id": "present-howard",
   "metadata": {},
   "outputs": [],
   "source": [
    "import pandas as pd\n",
    "import os\n",
    "import numpy as np\n",
    "import matplotlib.pyplot as plt\n",
    "import re\n",
    "from sklearn.preprocessing import OneHotEncoder,scale\n",
    "from geopy.geocoders import Nominatim\n",
    "\n",
    "geolocator = Nominatim(user_agent=\"Your_Name\")\n",
    "N_DATASET=1\n",
    "COLAB = 0 # COLAB =1 si usamos colab\n",
    "\n",
    "DATASETS = [\"homosexualf.csv\", \"homosexualh.csv\", \"heterosexual.csv\"]"
   ]
  },
  {
   "cell_type": "code",
   "execution_count": 66,
   "id": "proper-voltage",
   "metadata": {},
   "outputs": [
    {
     "name": "stdout",
     "output_type": "stream",
     "text": [
      "Path actual:  /home/iciac/Escritorio/CursoIA/AprendizajeNoSupervisado\n",
      "Dataset path:  /home/iciac/Escritorio/CursoIA/AprendizajeNoSupervisado/dataset/homosexualh.csv\n"
     ]
    }
   ],
   "source": [
    "if COLAB:\n",
    "    from google.colab import drive\n",
    "    drive.mount('/content/drive')\n",
    "    path_actual = \"/content/drive/My Drive/NoSupervisado/\"\n",
    "    dataset = path_actual + DATASETS[N_DATASET]\n",
    "\n",
    "else:\n",
    "    path_actual =     os.getcwd()\n",
    "    print(\"Path actual: \",path_actual)\n",
    "    dataset = path_actual + \"/dataset/\"+ DATASETS[N_DATASET]\n",
    "    print(\"Dataset path: \", dataset)"
   ]
  },
  {
   "cell_type": "markdown",
   "id": "german-composer",
   "metadata": {},
   "source": [
    "# Proyecto 2"
   ]
  },
  {
   "cell_type": "code",
   "execution_count": 67,
   "id": "western-bhutan",
   "metadata": {},
   "outputs": [],
   "source": [
    "df = pd.read_csv(dataset)"
   ]
  },
  {
   "cell_type": "code",
   "execution_count": 68,
   "id": "arctic-fancy",
   "metadata": {},
   "outputs": [],
   "source": [
    "def plot_frequency(df, columns):\n",
    "    for column in columns:\n",
    "        fig, ax = plt.subplots()\n",
    "        df[column].value_counts().plot(ax=ax, kind='bar', title = \"Frequency \"+column)\n",
    "        plt.show()\n",
    "    "
   ]
  },
  {
   "cell_type": "code",
   "execution_count": 69,
   "id": "affecting-decrease",
   "metadata": {},
   "outputs": [
    {
     "name": "stdout",
     "output_type": "stream",
     "text": [
      "Longitud del dataset:  (4756, 29)\n"
     ]
    }
   ],
   "source": [
    "print(\"Longitud del dataset: \", df.shape)\n"
   ]
  },
  {
   "cell_type": "code",
   "execution_count": 70,
   "id": "listed-evening",
   "metadata": {},
   "outputs": [
    {
     "name": "stdout",
     "output_type": "stream",
     "text": [
      "Valores Nulos \n",
      "-----------\n"
     ]
    },
    {
     "data": {
      "text/plain": [
       "age               0\n",
       "status            0\n",
       "body_type       375\n",
       "diet           2299\n",
       "drinks          205\n",
       "drugs          1019\n",
       "education       555\n",
       "ethnicity       371\n",
       "height            0\n",
       "income            0\n",
       "job             636\n",
       "last_online       0\n",
       "location          0\n",
       "offspring      3409\n",
       "pets           1550\n",
       "religion       1515\n",
       "sign            591\n",
       "smokes          363\n",
       "speaks            8\n",
       "essay0          334\n",
       "essay1          518\n",
       "essay2          668\n",
       "essay3          801\n",
       "essay4          758\n",
       "essay5          789\n",
       "essay6          946\n",
       "essay7          817\n",
       "essay8         1294\n",
       "essay9          907\n",
       "dtype: int64"
      ]
     },
     "execution_count": 70,
     "metadata": {},
     "output_type": "execute_result"
    }
   ],
   "source": [
    "print(\"Valores Nulos \\n-----------\")\n",
    "df.isna().sum()"
   ]
  },
  {
   "cell_type": "markdown",
   "id": "modified-roulette",
   "metadata": {},
   "source": [
    "## Variables\n"
   ]
  },
  {
   "cell_type": "markdown",
   "id": "stylish-orbit",
   "metadata": {},
   "source": [
    "### Numericas\n",
    "- age: edad\n",
    "- height: altura \n",
    "- last_online: fecha de la última conexión, (Dias-Mes-Año) \n",
    "- income: ingresos anuales (en dólares americanos $) -> Hay mucho a nulo (-1) y no nos parece relevante"
   ]
  },
  {
   "cell_type": "code",
   "execution_count": 71,
   "id": "boxed-federation",
   "metadata": {},
   "outputs": [
    {
     "data": {
      "image/png": "[encoded data removed]",
      "text/plain": [
       "<Figure size 432x288 with 1 Axes>"
      ]
     },
     "metadata": {
      "needs_background": "light"
     },
     "output_type": "display_data"
    },
    {
     "data": {
      "image/png": "[encoded data removed]",
      "text/plain": [
       "<Figure size 432x288 with 1 Axes>"
      ]
     },
     "metadata": {
      "needs_background": "light"
     },
     "output_type": "display_data"
    },
    {
     "data": {
      "image/png": "[encoded data removed]",
      "text/plain": [
       "<Figure size 432x288 with 1 Axes>"
      ]
     },
     "metadata": {
      "needs_background": "light"
     },
     "output_type": "display_data"
    },
    {
     "data": {
      "image/png": "[encoded data removed]",
      "text/plain": [
       "<Figure size 432x288 with 1 Axes>"
      ]
     },
     "metadata": {
      "needs_background": "light"
     },
     "output_type": "display_data"
    }
   ],
   "source": [
    "df[[\"year\",\"month\", \"deshechar\"]] = df[\"last_online\"].str.split(\"-\",expand=True, n=2)\n",
    "df[[\"last_online\"]] = df[\"year\"] + df[\"month\"] \n",
    "plot_frequency(df, [\"age\", \"height\", \"income\", \"last_online\"])\n",
    "df.drop(columns = [\"deshechar\",\"income\", \"year\", \"month\"], inplace=True)\n",
    "\n",
    "anterior_ultimo_mes = df[df[\"last_online\"]< \"201206\"].index\n",
    "df.drop(anterior_ultimo_mes,inplace = True)\n",
    "df.drop(columns = [\"last_online\"], inplace=True)\n",
    "\n",
    "df['height'].fillna(df['height'].mode()[0], inplace=True)\n"
   ]
  },
  {
   "cell_type": "code",
   "execution_count": 72,
   "id": "bacterial-newcastle",
   "metadata": {},
   "outputs": [
    {
     "name": "stdout",
     "output_type": "stream",
     "text": [
      "Dimension actual: (3561, 27)\n"
     ]
    }
   ],
   "source": [
    "print(\"Dimension actual:\", df.shape)"
   ]
  },
  {
   "cell_type": "markdown",
   "id": "alleged-limit",
   "metadata": {},
   "source": [
    "### Categoricas"
   ]
  },
  {
   "cell_type": "markdown",
   "id": "surrounded-thomson",
   "metadata": {},
   "source": [
    "**A borrar** \n",
    "\n",
    "- body_type\n",
    "- sign\n",
    "- ethnicity\n",
    "- education\n",
    "- essay: Las preprocesaremos en otro notebook guardando el indice\n",
    "\n",
    "Nos parecen que pueden crear sesgos en nuestro algoritmo o que no son lo suficientemente relevantes."
   ]
  },
  {
   "cell_type": "code",
   "execution_count": 73,
   "id": "narrow-naples",
   "metadata": {},
   "outputs": [
    {
     "name": "stdout",
     "output_type": "stream",
     "text": [
      "Dimension actual: (3561, 13)\n"
     ]
    }
   ],
   "source": [
    "df.drop(columns = [\"body_type\",\"ethnicity\", \"education\", \"sign\"], inplace=True)\n",
    "for i in range(0,10):\n",
    "    df.drop(columns = \"essay\"+str(i), inplace = True)   \n",
    "    \n",
    "print(\"Dimension actual:\", df.shape)\n"
   ]
  },
  {
   "cell_type": "markdown",
   "id": "blessed-smile",
   "metadata": {},
   "source": [
    "\n",
    "**Categoricas más relevante**\n",
    "- status: Estado de la relación (Available/Single- 0, Seeing someone-1, Married-2 o Unknown-nan)\n",
    "- location: lugar de residencia (A coordenadas - latitud, longitud)\n",
    "- speaks: idiomas (Una columna por cada idiomas y sus puntuaciones) \n",
    "  - Lisp o c++ nos parecio interesante dejarlo por aficciones ([1,0.5,0.25, 0])\n",
    "  - Tambien tenemos en cuenta si le gusta aprender idiomas (number_of_languages)\n",
    " "
   ]
  },
  {
   "cell_type": "code",
   "execution_count": 74,
   "id": "painful-prize",
   "metadata": {},
   "outputs": [
    {
     "name": "stdout",
     "output_type": "stream",
     "text": [
      "Status: ['single' 'seeing someone' 'available' 'married']\n"
     ]
    }
   ],
   "source": [
    "print(\"Status:\", df.status.unique())"
   ]
  },
  {
   "cell_type": "code",
   "execution_count": 75,
   "id": "transsexual-peoples",
   "metadata": {},
   "outputs": [
    {
     "name": "stdout",
     "output_type": "stream",
     "text": [
      "Status: 0\n",
      "Status: [0 1 2]\n"
     ]
    }
   ],
   "source": [
    "## STATUS\n",
    "def is_avaliable(x):\n",
    "    if x in [\"single\", \"available\"]:\n",
    "        return 0 \n",
    "    elif x in ['seeing someone']:\n",
    "        return 1\n",
    "    elif x in [\"married\"]:\n",
    "        return 2\n",
    "    elif x in [\"unknown\"]:\n",
    "        return np.nan\n",
    "    else:\n",
    "        return status[x]\n",
    "    \n",
    "df[\"status\"] = df.status.apply(lambda x: is_avaliable(x))\n",
    "print(\"Status:\", df.status.isnull().sum())\n",
    "df.drop(df[df.status.isnull()].index, inplace=True)  \n",
    "print(\"Status:\", df.status.unique())"
   ]
  },
  {
   "cell_type": "code",
   "execution_count": null,
   "id": "needed-deputy",
   "metadata": {},
   "outputs": [],
   "source": [
    "## LOCATION\n",
    "\n",
    "#def preprocess_location(dataset, column):\n",
    "#    for word in [\"south\", \"north\", \"west\"]:\n",
    "#        dataset[column] = dataset[column].apply(lambda x: str(x).replace(word,\"\"))\n",
    "#    return dataset[column]\n",
    "\n",
    "def address_to_coordinates(address):\n",
    "    location = geolocator.geocode(address)\n",
    "    return location.latitude, location.longitude\n",
    "    \n",
    "df[\"location\"]= df[\"location\"].str.strip()\n",
    "\n",
    "addresses = df[\"location\"].unique()\n",
    "latitude, longitude = [],[]\n",
    "\n",
    "for address in addresses:\n",
    "    la, lo = address_to_coordinates(address)\n",
    "    latitude.append(la)\n",
    "    longitude.append(lo)\n",
    "\n",
    "    \n",
    "locations = pd.DataFrame({\"location\":addresses, \"longitude\":longitude, \"latitude\":latitude})\n",
    "df = df.merge(locations, on = \"location\")\n",
    "df.drop(columns= \"location\", inplace=True)\n",
    "\n",
    "locations"
   ]
  },
  {
   "cell_type": "code",
   "execution_count": null,
   "id": "cutting-vegetable",
   "metadata": {},
   "outputs": [],
   "source": [
    "## SPEAKS\n",
    "df.drop(df[df.speaks.isnull()].index, inplace=True)  \n",
    "\n",
    "if ((len(df)) == (df['speaks'].str.contains(\"english\").sum())):\n",
    "    print(\"Todos hablan ingles en mayor o menor medida\")\n",
    "\n",
    "    \n"
   ]
  },
  {
   "cell_type": "code",
   "execution_count": null,
   "id": "breeding-painting",
   "metadata": {},
   "outputs": [],
   "source": [
    "def parentesis(x):\n",
    "    start = x.find('(') \n",
    "    end = x.find(')', start)\n",
    "    if (start > 0 and end > start):\n",
    "        level = x[start+1:end]\n",
    "        language = x.replace(level, \"\")\n",
    "    else:\n",
    "        language = x\n",
    "        level = \"okay\"\n",
    "        \n",
    "    return level, language.replace(\"()\", \"\").strip()\n",
    "\n",
    "df[\"languages\"] = df.speaks.str.split(\", \")\n",
    "df[\"number_of_languages\"] = df[\"languages\"].apply(lambda x: len(x))\n",
    "df[\"languages\"] = df[\"languages\"].apply(lambda x: [lang.strip() for lang in x]) \n",
    "df[\"languages\"] = df[\"languages\"].apply(lambda x: [parentesis(lang) for lang in x] )\n",
    "\n",
    "unique_languages = set()\n",
    "levels = set()\n",
    "\n",
    "for element in df[\"languages\"]:\n",
    "    for language in element:\n",
    "        levels.add(language[0])\n",
    "        if (len(language) > 1):\n",
    "            unique_languages.add(language[1])\n",
    "\n",
    " \n",
    "\n"
   ]
  },
  {
   "cell_type": "code",
   "execution_count": null,
   "id": "confused-torture",
   "metadata": {},
   "outputs": [],
   "source": [
    "levels = {k:v for k,v in zip(levels, [1,0.5,0.25])}\n",
    "df[\"languages\"] = df[\"languages\"].apply(lambda x: [ (levels[lang[0]], lang[1]) for lang in x  if (not (lang[0] in \"c++\") or ( x in \"lisp\"))])\n",
    "\n",
    "\"\"\"def get_item(lang, l):\n",
    "    for item in l:\n",
    "        if item[1] in lang:\n",
    "            return item[0]\n",
    "    return 0    \n",
    "    \n",
    "for lang in unique_languages:\n",
    "    df[lang] = df[\"languages\"].apply(lambda x: get_item(lang,x))\"\"\"\n",
    "df.drop(columns= [\"languages\",\"speaks\"], inplace=True)    \n"
   ]
  },
  {
   "cell_type": "code",
   "execution_count": null,
   "id": "composite-specific",
   "metadata": {},
   "outputs": [],
   "source": [
    "print(\"Dimension actual:\", df.shape)"
   ]
  },
  {
   "cell_type": "markdown",
   "id": "planned-drove",
   "metadata": {},
   "source": [
    "**Categoricas menos relevantes**\n",
    "\n",
    "- smokes: ¿fumas?  (0 No - 1 Si)    \n",
    "- drugs: ¿Consumidore de drogas? (0 No - 1 Si) \n",
    "- drinks: ¿bebedor? (0 No - 1 Socialmente, Raramente - 2 Si)"
   ]
  },
  {
   "cell_type": "code",
   "execution_count": null,
   "id": "starting-chapel",
   "metadata": {},
   "outputs": [],
   "source": [
    "### Drinks, drugs\n",
    "print(df.smokes.unique())\n",
    "print(df.drinks.unique())\n",
    "print(df.drugs.unique())\n",
    "\n",
    "def drinks(x):\n",
    "    if x in [\"often\",'desperately', 'very often']:\n",
    "        return 2\n",
    "    elif x in ['socially', 'rarely']:\n",
    "        return 1\n",
    "    elif x in ['not at all']:\n",
    "        return 0\n",
    "    else:\n",
    "        return x\n",
    "\n",
    "def drugs(x):\n",
    "    if x in [\"sometimes\", 'often']:\n",
    "        return 1\n",
    "    elif x in ['never']:\n",
    "        return 0\n",
    "    else:\n",
    "        return x\n",
    "\n",
    "def smokes(x):\n",
    "    if x in [\"no\"]:\n",
    "        return 0\n",
    "    elif x in ['sometimes', 'when drinking', 'trying to quit', 'yes']:\n",
    "        return 1\n",
    "    else:\n",
    "        return x\n",
    "\n",
    "df[\"drinks\"] = df[\"drinks\"].apply(lambda x: drinks(x))\n",
    "df[\"drugs\"] = df[\"drugs\"].apply(lambda x: drugs(x))\n",
    "df[\"smokes\"] = df[\"smokes\"].apply(lambda x: smokes(x))\n",
    "\n",
    "\n",
    "df['drinks'].fillna(df['drinks'].mode()[0], inplace=True)\n",
    "df['drugs'].fillna(df['drugs'].mode()[0], inplace=True)\n",
    "df['smokes'].fillna(df['smokes'].mode()[0], inplace=True)\n",
    "\n",
    "print(df.drinks.unique())\n",
    "print(df.drugs.unique())\n",
    "print(df.smokes.unique())"
   ]
  },
  {
   "cell_type": "markdown",
   "id": "loved-offense",
   "metadata": {},
   "source": [
    "- offspring: preferencia con respecto a los hijos (hijos no 0 - si 1, querer_hijos no 0 - si 1)\n",
    "- job: empleo/industria (Cambiar unemployed y rather not say to unknown)\n",
    "   - {'other', 'student', 'artistico', 'retired', ('unemployed',  'rather not say') -> nan }\n",
    "      - art: 'entertainment / media',  'artistic / musical / writer'\n",
    "      - tech: 'computer / hardware / software', 'science / tech / engineering'\n",
    "      - health: 'medicine / health'\n",
    "      - social:  'banking / financial / real estate', 'law / legal services',  'sales / marketing / biz dev', 'clerical / administrative', 'executive / management', 'political / government', 'education / academia', 'hospitality / travel', 'military'\n",
    "      - industrial: 'construction / craftsmanship', 'transportation'\n",
    "- diet: dieta seguida por el usuario (solo tener en cuenta estrictos {vegan, vegetarian, other, halah, kosher})\n",
    "- pets: preferencia con respecto a las mascotas (cat no 0 si 1, dog  no 0 si 1)\n",
    "- religion: preferencias religiosas (igual a languages)\n"
   ]
  },
  {
   "cell_type": "code",
   "execution_count": null,
   "id": "elegant-township",
   "metadata": {},
   "outputs": [],
   "source": [
    "### OffSpring\n",
    "def hijos(x):\n",
    "    if \"has\" in str(x):\n",
    "        return 1\n",
    "    elif \"doesn't have\" in str(x):\n",
    "        return 0\n",
    "    else:\n",
    "        \"unknown\"   \n",
    "\n",
    "def querer_hijos(x):\n",
    "    if  \"doesn't want\" in str(x):\n",
    "        return 0 \n",
    "    elif \"want\" in str(x):\n",
    "        return 1\n",
    "    else:\n",
    "        return np.nan  \n",
    "    \n",
    "df[\"hijos\"] = df.offspring.apply(lambda x: hijos(x))\n",
    "df[\"quiere_hijos\"] = df.offspring.apply(lambda x: querer_hijos(x))\n",
    "df.drop(columns = \"offspring\", inplace = True)\n",
    "\n",
    "print(df.hijos.unique())\n",
    "print(df.quiere_hijos.unique())\n",
    "\n",
    "## Respuesta de si o no\n",
    "df['hijos'].fillna(df['hijos'].mode()[0], inplace=True)\n",
    "df['quiere_hijos'].fillna(df['quiere_hijos'].mode()[0], inplace=True)"
   ]
  },
  {
   "cell_type": "code",
   "execution_count": null,
   "id": "associate-ebony",
   "metadata": {},
   "outputs": [],
   "source": [
    "## DIET \n",
    "def diet(x):\n",
    "    if pd.isnull(x):\n",
    "        return \"anything\"\n",
    "    if (\"other\" in x) or (\"anything\" in x) or (\"halah\" in x) or (\"kosher\" in x):\n",
    "        return \"anything\"\n",
    "    \n",
    "    x = x.replace(\"mostly \",\"\")\n",
    "    x = x.replace(\"strictly \",\"\")\n",
    "    return x\n",
    "\n",
    "df.diet = df.diet.apply(lambda x: diet(x))\n",
    "\n",
    "df['diet'].fillna(df['diet'].mode()[0], inplace=True)"
   ]
  },
  {
   "cell_type": "code",
   "execution_count": null,
   "id": "occasional-substance",
   "metadata": {},
   "outputs": [],
   "source": [
    "## PET (Cats-0,1-Dogs-0,1)\n",
    "def cats(x):\n",
    "    if pd.isnull(x):\n",
    "        return x\n",
    "    cat = [\"has cat\",\"likes cats\"]\n",
    "    for string in cat:\n",
    "        if string in x:\n",
    "            return 1\n",
    "        elif \"dislikes cats\":\n",
    "            return 0\n",
    "    return np.nan\n",
    "\n",
    "def dogs(x):\n",
    "    if pd.isnull(x):\n",
    "        return x\n",
    "    dog = [\"has dogs\",\"likes dogs\"]\n",
    "    for string in dog:\n",
    "        if string in x:\n",
    "            return 1\n",
    "        elif \"dislikes dogs\" in x:\n",
    "            return 0\n",
    "    return np.nan\n",
    "        \n",
    "\n",
    "print(df.pets.unique())\n",
    "\n",
    "df[\"cat\"] = df.pets.apply(lambda x: cats(x))\n",
    "df[\"dog\"] = df.pets.apply(lambda x: dogs(x))\n",
    "df.drop(columns = \"pets\", inplace = True)\n",
    "\n",
    "print(df.dog.unique())\n",
    "print(df.cat.unique())\n",
    "\n",
    "df['cat'].fillna(df['cat'].mode()[0], inplace=True)\n",
    "df['dog'].fillna(df['dog'].mode()[0], inplace=True)"
   ]
  },
  {
   "cell_type": "code",
   "execution_count": null,
   "id": "plastic-albuquerque",
   "metadata": {},
   "outputs": [],
   "source": [
    "## JOB \n",
    "social = ['banking / financial / real estate', 'law / legal services',  'sales / marketing / biz dev', 'clerical / administrative']\n",
    "social.append(['executive / management', 'political / government', 'education / academia', 'hospitality / travel','military'])\n",
    "\n",
    "def job(x):\n",
    "    if x in ['retired','student']:\n",
    "        return x\n",
    "    elif x in ['entertainment / media',  'artistic / musical / writer']:\n",
    "        return \"art\"\n",
    "    elif x in ['computer / hardware / software', 'science / tech / engineering']:\n",
    "        return \"tech\"\n",
    "    elif x in ['medicine / health']:\n",
    "        return \"health\"\n",
    "    elif x in social:\n",
    "        return \"social\"\n",
    "    elif x in ['construction / craftsmanship', 'transportation']:\n",
    "        return \"industry\"\n",
    "    else:\n",
    "        return np.nan\n",
    "\n",
    "df.job = df.job.apply(lambda x: job(x))\n",
    "\n",
    "df['job'].fillna(df['religion'].mode()[0], inplace=True)"
   ]
  },
  {
   "cell_type": "code",
   "execution_count": null,
   "id": "motivated-hardwood",
   "metadata": {},
   "outputs": [],
   "source": [
    "## RELIGION\n",
    "religion_dict = {\n",
    "    \"and laughing about it\": 0.1,\n",
    "    \"but not too serious about it\": 0.25,\n",
    "    \"and somewhat serious about it\": 0.5,\n",
    "    \"and very serious about it\": 1\n",
    "}\n",
    "def religion(x):\n",
    "    if pd.isnull(x):\n",
    "        return x\n",
    "    a = x.split(\" \", maxsplit=1)\n",
    "    if (len(a) < 2):\n",
    "        return (a[0], 0.5)        \n",
    "    puntuation = 0\n",
    "    for phrase in religion_dict:\n",
    "        if a[1] in phrase:\n",
    "            return a[0], religion_dict[phrase]\n",
    "    \n",
    "    return a[0], 0\n",
    "\n",
    "religions = set([i.split(\" \", maxsplit=1)[0]for i in df.religion.unique() if pd.notnull(i)])\n",
    "\n",
    "df.religion = df.religion.apply(lambda x: religion(x))\n",
    "\n",
    "for rel in religions:\n",
    "    df[rel] = df.religion.apply(lambda x: x[1] if (pd.notnull(x) and (x[0] in rel)) else 0)\n",
    "    \n",
    "df.drop(columns = \"religion\", inplace = True)    "
   ]
  },
  {
   "cell_type": "markdown",
   "id": "hazardous-treasurer",
   "metadata": {},
   "source": [
    "## Categoricas -> One Hot Encoder"
   ]
  },
  {
   "cell_type": "code",
   "execution_count": null,
   "id": "aggressive-customer",
   "metadata": {},
   "outputs": [],
   "source": [
    "print(df.select_dtypes(include=['object']).columns)\n",
    "\n",
    "if \"sex\" in df.columns.to_list():\n",
    "    df.drop(columns=\"sex\", inplace=True)   "
   ]
  },
  {
   "cell_type": "code",
   "execution_count": null,
   "id": "stopped-vaccine",
   "metadata": {},
   "outputs": [],
   "source": [
    "df = df.join(pd.get_dummies(df.job, prefix='Job'))\n",
    "df.drop(columns = [\"job\"], inplace=True)\n",
    "df = df.join(pd.get_dummies(df.diet, prefix='Diet'))\n",
    "df.drop(columns = [\"diet\"], inplace=True)\n",
    "\n",
    "print(df.select_dtypes(include=['object']).columns)    "
   ]
  },
  {
   "cell_type": "markdown",
   "id": "optional-luther",
   "metadata": {},
   "source": [
    "## Estandarizacion"
   ]
  },
  {
   "cell_type": "code",
   "execution_count": null,
   "id": "perfect-documentation",
   "metadata": {},
   "outputs": [],
   "source": [
    "a = zip(list(df.isnull().sum()), list(df.isnull().sum().index))\n",
    "for n, i in a:\n",
    "    if n > 0:\n",
    "        print(n, i)"
   ]
  },
  {
   "cell_type": "code",
   "execution_count": null,
   "id": "recorded-details",
   "metadata": {},
   "outputs": [],
   "source": [
    "for column in df.columns:\n",
    "    df[column] = scale(df[column])"
   ]
  },
  {
   "cell_type": "code",
   "execution_count": null,
   "id": "african-adapter",
   "metadata": {},
   "outputs": [],
   "source": [
    "df.shape"
   ]
  },
  {
   "cell_type": "markdown",
   "id": "clinical-realtor",
   "metadata": {},
   "source": [
    "## Save"
   ]
  },
  {
   "cell_type": "code",
   "execution_count": null,
   "id": "violent-royalty",
   "metadata": {},
   "outputs": [],
   "source": [
    "print(\"Longitud del dataset: \", df.shape)\n",
    "save_path = path_actual + \"/dataset/\"+ DATASETS[N_DATASET][:len(DATASETS[N_DATASET])-4]+\"_preprocesado.csv\"\n",
    "\n",
    "save_path"
   ]
  },
  {
   "cell_type": "code",
   "execution_count": null,
   "id": "tough-myanmar",
   "metadata": {},
   "outputs": [],
   "source": [
    "df.to_csv(save_path)"
   ]
  },
  {
   "cell_type": "code",
   "execution_count": null,
   "id": "overall-frederick",
   "metadata": {},
   "outputs": [],
   "source": []
  }
 ],
 "metadata": {
  "kernelspec": {
   "display_name": "Python 3",
   "language": "python",
   "name": "python3"
  },
  "language_info": {
   "codemirror_mode": {
    "name": "ipython",
    "version": 3
   },
   "file_extension": ".py",
   "mimetype": "text/x-python",
   "name": "python",
   "nbconvert_exporter": "python",
   "pygments_lexer": "ipython3",
   "version": "3.8.3"
  }
 },
 "nbformat": 4,
 "nbformat_minor": 5
}
