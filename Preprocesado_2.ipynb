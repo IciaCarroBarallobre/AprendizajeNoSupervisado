{
 "cells": [
  {
   "cell_type": "code",
   "execution_count": null,
   "id": "mature-forestry",
   "metadata": {},
   "outputs": [],
   "source": [
    "df = "
   ]
  },
  {
   "cell_type": "code",
   "execution_count": null,
   "id": "mediterranean-flesh",
   "metadata": {},
   "outputs": [],
   "source": [
    "a = df.isnull().sum()\n",
    "b = df.isnull().sum().index\n",
    "\n",
    "for i in range(len(a)):\n",
    "    if (a[i]> 0):\n",
    "        print(a[i],b[i])\n",
    "        "
   ]
  }
 ],
 "metadata": {
  "kernelspec": {
   "display_name": "Python 3",
   "language": "python",
   "name": "python3"
  },
  "language_info": {
   "codemirror_mode": {
    "name": "ipython",
    "version": 3
   },
   "file_extension": ".py",
   "mimetype": "text/x-python",
   "name": "python",
   "nbconvert_exporter": "python",
   "pygments_lexer": "ipython3",
   "version": "3.8.3"
  }
 },
 "nbformat": 4,
 "nbformat_minor": 5
}
